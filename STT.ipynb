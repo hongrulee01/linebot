{
 "cells": [
  {
   "cell_type": "code",
   "execution_count": 1,
   "id": "b1cdaf2e-4561-4a7f-98d8-bf107726bef3",
   "metadata": {},
   "outputs": [
    {
     "name": "stdout",
     "output_type": "stream",
     "text": [
      "Running on local URL:  http://127.0.0.1:7860\n",
      "\n",
      "Could not create share link. Please check your internet connection or our status page: https://status.gradio.app.\n"
     ]
    },
    {
     "data": {
      "text/html": [
       "<div><iframe src=\"http://127.0.0.1:7860/\" width=\"100%\" height=\"500\" allow=\"autoplay; camera; microphone; clipboard-read; clipboard-write;\" frameborder=\"0\" allowfullscreen></iframe></div>"
      ],
      "text/plain": [
       "<IPython.core.display.HTML object>"
      ]
     },
     "metadata": {},
     "output_type": "display_data"
    },
    {
     "data": {
      "text/plain": []
     },
     "execution_count": 1,
     "metadata": {},
     "output_type": "execute_result"
    },
    {
     "name": "stderr",
     "output_type": "stream",
     "text": [
      "Traceback (most recent call last):\n",
      "  File \"C:\\ProgramData\\anaconda3\\envs\\W20240908\\Lib\\site-packages\\requests\\models.py\", line 974, in json\n",
      "    return complexjson.loads(self.text, **kwargs)\n",
      "           ^^^^^^^^^^^^^^^^^^^^^^^^^^^^^^^^^^^^^^\n",
      "  File \"C:\\ProgramData\\anaconda3\\envs\\W20240908\\Lib\\json\\__init__.py\", line 346, in loads\n",
      "    return _default_decoder.decode(s)\n",
      "           ^^^^^^^^^^^^^^^^^^^^^^^^^^\n",
      "  File \"C:\\ProgramData\\anaconda3\\envs\\W20240908\\Lib\\json\\decoder.py\", line 337, in decode\n",
      "    obj, end = self.raw_decode(s, idx=_w(s, 0).end())\n",
      "               ^^^^^^^^^^^^^^^^^^^^^^^^^^^^^^^^^^^^^^\n",
      "  File \"C:\\ProgramData\\anaconda3\\envs\\W20240908\\Lib\\json\\decoder.py\", line 355, in raw_decode\n",
      "    raise JSONDecodeError(\"Expecting value\", s, err.value) from None\n",
      "json.decoder.JSONDecodeError: Expecting value: line 1 column 1 (char 0)\n",
      "\n",
      "During handling of the above exception, another exception occurred:\n",
      "\n",
      "Traceback (most recent call last):\n",
      "  File \"C:\\ProgramData\\anaconda3\\envs\\W20240908\\Lib\\site-packages\\gradio\\queueing.py\", line 536, in process_events\n",
      "    response = await route_utils.call_process_api(\n",
      "               ^^^^^^^^^^^^^^^^^^^^^^^^^^^^^^^^^^^\n",
      "  File \"C:\\ProgramData\\anaconda3\\envs\\W20240908\\Lib\\site-packages\\gradio\\route_utils.py\", line 321, in call_process_api\n",
      "    output = await app.get_blocks().process_api(\n",
      "             ^^^^^^^^^^^^^^^^^^^^^^^^^^^^^^^^^^^\n",
      "  File \"C:\\ProgramData\\anaconda3\\envs\\W20240908\\Lib\\site-packages\\gradio\\blocks.py\", line 1935, in process_api\n",
      "    result = await self.call_function(\n",
      "             ^^^^^^^^^^^^^^^^^^^^^^^^^\n",
      "  File \"C:\\ProgramData\\anaconda3\\envs\\W20240908\\Lib\\site-packages\\gradio\\blocks.py\", line 1520, in call_function\n",
      "    prediction = await anyio.to_thread.run_sync(  # type: ignore\n",
      "                 ^^^^^^^^^^^^^^^^^^^^^^^^^^^^^^^^^^^^^^^^^^^^^^^\n",
      "  File \"C:\\ProgramData\\anaconda3\\envs\\W20240908\\Lib\\site-packages\\anyio\\to_thread.py\", line 56, in run_sync\n",
      "    return await get_async_backend().run_sync_in_worker_thread(\n",
      "           ^^^^^^^^^^^^^^^^^^^^^^^^^^^^^^^^^^^^^^^^^^^^^^^^^^^^\n",
      "  File \"C:\\ProgramData\\anaconda3\\envs\\W20240908\\Lib\\site-packages\\anyio\\_backends\\_asyncio.py\", line 2177, in run_sync_in_worker_thread\n",
      "    return await future\n",
      "           ^^^^^^^^^^^^\n",
      "  File \"C:\\ProgramData\\anaconda3\\envs\\W20240908\\Lib\\site-packages\\anyio\\_backends\\_asyncio.py\", line 859, in run\n",
      "    result = context.run(func, *args)\n",
      "             ^^^^^^^^^^^^^^^^^^^^^^^^\n",
      "  File \"C:\\ProgramData\\anaconda3\\envs\\W20240908\\Lib\\site-packages\\gradio\\utils.py\", line 826, in wrapper\n",
      "    response = f(*args, **kwargs)\n",
      "               ^^^^^^^^^^^^^^^^^^\n",
      "  File \"C:\\Users\\tcfst-class\\AppData\\Local\\Temp\\ipykernel_13848\\4168355859.py\", line 19, in transcribe_audio_gradio\n",
      "    return f\"發生錯誤: {response.json().get('error', '未知錯誤')}\"\n",
      "                        ^^^^^^^^^^^^^^^\n",
      "  File \"C:\\ProgramData\\anaconda3\\envs\\W20240908\\Lib\\site-packages\\requests\\models.py\", line 978, in json\n",
      "    raise RequestsJSONDecodeError(e.msg, e.doc, e.pos)\n",
      "requests.exceptions.JSONDecodeError: Expecting value: line 1 column 1 (char 0)\n"
     ]
    }
   ],
   "source": [
    "import gradio as gr\n",
    "import requests\n",
    "def transcribe_audio_gradio(audio):\n",
    "    # 如果音訊檔案未正確上傳，回傳錯誤訊息\n",
    "    if audio is None:\n",
    "        return \"音訊檔案未正確上傳。請再試一次。\"\n",
    "    \n",
    "    # 將音訊檔案上傳到 Flask API\n",
    "    # 這裡我們使用 HTTP POST 請求，並將音訊檔案作為表單數據的一部分上傳\n",
    "    with open(audio, \"rb\") as f:\n",
    "        response = requests.post(\"http://127.0.0.1:8080/transcribe\", files={\"file\": f})\n",
    "    \n",
    "    # 如果請求成功並且回覆狀態碼為 200，則從回覆的json中提取逐字稿內容\n",
    "    if response.status_code == 200:\n",
    "        return response.json().get(\"transcription\", \"未能辨識出逐字稿。\")\n",
    "    else:\n",
    "        # 如果請求失敗或回覆其他狀態碼，返回錯誤訊息\n",
    "        return f\"發生錯誤: {response.json().get('error', '未知錯誤')}\"\n",
    "# 建立 Gradio 介面\n",
    "# fn 參數設定為處理音訊轉逐字稿的函數 transcribe_audio_gradio\n",
    "# inputs 設定為音訊檔案的上傳文件，type 設為 \"filepath\" 表示上傳文件的路徑\n",
    "# outputs 設定為顯示轉逐字稿結果的內容輸出\n",
    "# title 和 description 用來設定介面的標題和描述\n",
    "iface = gr.Interface(\n",
    "    fn=transcribe_audio_gradio,\n",
    "    inputs=gr.Audio(type=\"filepath\"),\n",
    "    outputs=\"text\",\n",
    "    title=\"繁體中文語音辨識 API 測試\",\n",
    "    description=\"上傳音訊檔案以進行 Whisper API 的語音轉逐字稿服務\",\n",
    ")\n",
    "# 啟動 Gradio 介面並提供外部連結(72 hrs)\n",
    "# share=True 參數允許生成一個外部可訪問的連結，用於分享和測試\n",
    "iface.launch(share=True)"
   ]
  },
  {
   "cell_type": "code",
   "execution_count": null,
   "id": "7b206e71-c040-4431-b868-5c69e6181b42",
   "metadata": {},
   "outputs": [],
   "source": []
  }
 ],
 "metadata": {
  "kernelspec": {
   "display_name": "Python 3 (ipykernel)",
   "language": "python",
   "name": "python3"
  },
  "language_info": {
   "codemirror_mode": {
    "name": "ipython",
    "version": 3
   },
   "file_extension": ".py",
   "mimetype": "text/x-python",
   "name": "python",
   "nbconvert_exporter": "python",
   "pygments_lexer": "ipython3",
   "version": "3.11.9"
  }
 },
 "nbformat": 4,
 "nbformat_minor": 5
}
